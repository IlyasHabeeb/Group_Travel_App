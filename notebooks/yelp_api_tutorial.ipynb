{
 "cells": [
  {
   "cell_type": "markdown",
   "metadata": {},
   "source": [
    "# Yelp API - Tutorial"
   ]
  },
  {
   "cell_type": "markdown",
   "metadata": {},
   "source": [
    "### Import Packages"
   ]
  },
  {
   "cell_type": "code",
   "execution_count": 32,
   "metadata": {},
   "outputs": [],
   "source": [
    "import os\n",
    "import time\n",
    "import requests\n",
    "import json\n",
    "import rauth\n",
    "import pprint"
   ]
  },
  {
   "cell_type": "markdown",
   "metadata": {},
   "source": [
    "### Defining Variables"
   ]
  },
  {
   "cell_type": "code",
   "execution_count": 18,
   "metadata": {},
   "outputs": [],
   "source": [
    "api_key = os.environ['myYelpAPI']\n",
    "api_id = os.environ['myYelpClientID']\n",
    "headers = {'Authorization': 'Bearer %s' % api_key}"
   ]
  },
  {
   "cell_type": "markdown",
   "metadata": {},
   "source": [
    "### API Search Definition"
   ]
  },
  {
   "cell_type": "code",
   "execution_count": 31,
   "metadata": {},
   "outputs": [],
   "source": [
    "url = 'https://api.yelp.com/v3/businesses/search'\n",
    "params = {'term':'seafood','location':'New York City'}"
   ]
  },
  {
   "cell_type": "markdown",
   "metadata": {},
   "source": [
    "### Making a Request"
   ]
  },
  {
   "cell_type": "code",
   "execution_count": 23,
   "metadata": {},
   "outputs": [
    {
     "name": "stdout",
     "output_type": "stream",
     "text": [
      "The status code is 200\n"
     ]
    }
   ],
   "source": [
    "# Making a get request to the API\n",
    "req=requests.get(url, params=params, headers=headers)\n",
    " \n",
    "# proceed only if the status code is 200\n",
    "print('The status code is {}'.format(req.status_code))"
   ]
  },
  {
   "cell_type": "code",
   "execution_count": 35,
   "metadata": {},
   "outputs": [
    {
     "name": "stdout",
     "output_type": "stream",
     "text": [
      "{'alias': 'upstate-new-york-2',\n",
      " 'categories': [{'alias': 'seafood', 'title': 'Seafood'},\n",
      "                {'alias': 'wine_bars', 'title': 'Wine Bars'},\n",
      "                {'alias': 'beerbar', 'title': 'Beer Bar'}],\n",
      " 'coordinates': {'latitude': 40.7263139141197, 'longitude': -73.9864901976935},\n",
      " 'display_phone': '(646) 791-5400',\n",
      " 'distance': 2411.9187177986864,\n",
      " 'id': 'ehUuSk5gPTCQmwS_ubgKRA',\n",
      " 'image_url': 'https://s3-media1.fl.yelpcdn.com/bphoto/RvnUVU7MF7DT0RzNL-EebQ/o.jpg',\n",
      " 'is_closed': False,\n",
      " 'location': {'address1': '95 1st Ave',\n",
      "              'address2': '',\n",
      "              'address3': '',\n",
      "              'city': 'New York',\n",
      "              'country': 'US',\n",
      "              'display_address': ['95 1st Ave', 'New York, NY 10003'],\n",
      "              'state': 'NY',\n",
      "              'zip_code': '10003'},\n",
      " 'name': 'Upstate',\n",
      " 'phone': '+16467915400',\n",
      " 'price': '$$',\n",
      " 'rating': 4.5,\n",
      " 'review_count': 1698,\n",
      " 'transactions': ['restaurant_reservation'],\n",
      " 'url': 'https://www.yelp.com/biz/upstate-new-york-2?adjust_creative=lw4RipuSt4AODglhWRHFjg&utm_campaign=yelp_api_v3&utm_medium=api_v3_business_search&utm_source=lw4RipuSt4AODglhWRHFjg'}\n"
     ]
    }
   ],
   "source": [
    "pprint.pprint(json.loads(req.text)['businesses'][0])"
   ]
  },
  {
   "cell_type": "code",
   "execution_count": null,
   "metadata": {},
   "outputs": [],
   "source": []
  }
 ],
 "metadata": {
  "kernelspec": {
   "display_name": "Python 3",
   "language": "python",
   "name": "python3"
  },
  "language_info": {
   "codemirror_mode": {
    "name": "ipython",
    "version": 3
   },
   "file_extension": ".py",
   "mimetype": "text/x-python",
   "name": "python",
   "nbconvert_exporter": "python",
   "pygments_lexer": "ipython3",
   "version": "3.5.6"
  }
 },
 "nbformat": 4,
 "nbformat_minor": 2
}
